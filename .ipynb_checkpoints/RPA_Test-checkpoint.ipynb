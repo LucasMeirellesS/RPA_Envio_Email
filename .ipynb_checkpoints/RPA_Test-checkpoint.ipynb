{
 "cells": [
  {
   "cell_type": "code",
   "execution_count": 4,
   "id": "1a07a675",
   "metadata": {},
   "outputs": [
    {
     "ename": "ImageNotFoundException",
     "evalue": "",
     "output_type": "error",
     "traceback": [
      "\u001b[1;31m---------------------------------------------------------------------------\u001b[0m",
      "\u001b[1;31mImageNotFoundException\u001b[0m                    Traceback (most recent call last)",
      "File \u001b[1;32m~\\anaconda3\\Lib\\site-packages\\pyautogui\\__init__.py:172\u001b[0m, in \u001b[0;36mraisePyAutoGUIImageNotFoundException.<locals>.wrapper\u001b[1;34m(*args, **kwargs)\u001b[0m\n\u001b[0;32m    171\u001b[0m \u001b[38;5;28;01mtry\u001b[39;00m:\n\u001b[1;32m--> 172\u001b[0m     \u001b[38;5;28;01mreturn\u001b[39;00m wrappedFunction(\u001b[38;5;241m*\u001b[39margs, \u001b[38;5;241m*\u001b[39m\u001b[38;5;241m*\u001b[39mkwargs)\n\u001b[0;32m    173\u001b[0m \u001b[38;5;28;01mexcept\u001b[39;00m pyscreeze\u001b[38;5;241m.\u001b[39mImageNotFoundException:\n",
      "File \u001b[1;32m~\\anaconda3\\Lib\\site-packages\\pyautogui\\__init__.py:210\u001b[0m, in \u001b[0;36mlocateOnScreen\u001b[1;34m(*args, **kwargs)\u001b[0m\n\u001b[0;32m    208\u001b[0m \u001b[38;5;129m@raisePyAutoGUIImageNotFoundException\u001b[39m\n\u001b[0;32m    209\u001b[0m \u001b[38;5;28;01mdef\u001b[39;00m \u001b[38;5;21mlocateOnScreen\u001b[39m(\u001b[38;5;241m*\u001b[39margs, \u001b[38;5;241m*\u001b[39m\u001b[38;5;241m*\u001b[39mkwargs):\n\u001b[1;32m--> 210\u001b[0m     \u001b[38;5;28;01mreturn\u001b[39;00m pyscreeze\u001b[38;5;241m.\u001b[39mlocateOnScreen(\u001b[38;5;241m*\u001b[39margs, \u001b[38;5;241m*\u001b[39m\u001b[38;5;241m*\u001b[39mkwargs)\n",
      "File \u001b[1;32m~\\anaconda3\\Lib\\site-packages\\pyscreeze\\__init__.py:405\u001b[0m, in \u001b[0;36mlocateOnScreen\u001b[1;34m(image, minSearchTime, **kwargs)\u001b[0m\n\u001b[0;32m    404\u001b[0m screenshotIm \u001b[38;5;241m=\u001b[39m screenshot(region\u001b[38;5;241m=\u001b[39m\u001b[38;5;28;01mNone\u001b[39;00m)\n\u001b[1;32m--> 405\u001b[0m retVal \u001b[38;5;241m=\u001b[39m locate(image, screenshotIm, \u001b[38;5;241m*\u001b[39m\u001b[38;5;241m*\u001b[39mkwargs)\n\u001b[0;32m    406\u001b[0m \u001b[38;5;28;01mtry\u001b[39;00m:\n",
      "File \u001b[1;32m~\\anaconda3\\Lib\\site-packages\\pyscreeze\\__init__.py:383\u001b[0m, in \u001b[0;36mlocate\u001b[1;34m(needleImage, haystackImage, **kwargs)\u001b[0m\n\u001b[0;32m    382\u001b[0m kwargs[\u001b[38;5;124m'\u001b[39m\u001b[38;5;124mlimit\u001b[39m\u001b[38;5;124m'\u001b[39m] \u001b[38;5;241m=\u001b[39m \u001b[38;5;241m1\u001b[39m\n\u001b[1;32m--> 383\u001b[0m points \u001b[38;5;241m=\u001b[39m \u001b[38;5;28mtuple\u001b[39m(locateAll(needleImage, haystackImage, \u001b[38;5;241m*\u001b[39m\u001b[38;5;241m*\u001b[39mkwargs))\n\u001b[0;32m    384\u001b[0m \u001b[38;5;28;01mif\u001b[39;00m \u001b[38;5;28mlen\u001b[39m(points) \u001b[38;5;241m>\u001b[39m \u001b[38;5;241m0\u001b[39m:\n",
      "File \u001b[1;32m~\\anaconda3\\Lib\\site-packages\\pyscreeze\\__init__.py:371\u001b[0m, in \u001b[0;36m_locateAll_pillow\u001b[1;34m(needleImage, haystackImage, grayscale, limit, region, step, confidence)\u001b[0m\n\u001b[0;32m    370\u001b[0m \u001b[38;5;28;01mif\u001b[39;00m USE_IMAGE_NOT_FOUND_EXCEPTION:\n\u001b[1;32m--> 371\u001b[0m     \u001b[38;5;28;01mraise\u001b[39;00m ImageNotFoundException(\u001b[38;5;124m'\u001b[39m\u001b[38;5;124mCould not locate the image.\u001b[39m\u001b[38;5;124m'\u001b[39m)\n\u001b[0;32m    372\u001b[0m \u001b[38;5;28;01melse\u001b[39;00m:\n",
      "\u001b[1;31mImageNotFoundException\u001b[0m: Could not locate the image.",
      "\nDuring handling of the above exception, another exception occurred:\n",
      "\u001b[1;31mImageNotFoundException\u001b[0m                    Traceback (most recent call last)",
      "Cell \u001b[1;32mIn[4], line 23\u001b[0m\n\u001b[0;32m     19\u001b[0m pyautogui\u001b[38;5;241m.\u001b[39mpress(\u001b[38;5;124m'\u001b[39m\u001b[38;5;124menter\u001b[39m\u001b[38;5;124m'\u001b[39m)\n\u001b[0;32m     22\u001b[0m \u001b[38;5;66;03m# localizar a imagem e clicar no meio da imagem\u001b[39;00m\n\u001b[1;32m---> 23\u001b[0m x, y, largura, altura \u001b[38;5;241m=\u001b[39m pyautogui\u001b[38;5;241m.\u001b[39mlocateOnScreen(\u001b[38;5;124m'\u001b[39m\u001b[38;5;124mbusca_gmail.png\u001b[39m\u001b[38;5;124m'\u001b[39m)\n\u001b[0;32m     25\u001b[0m pyautogui\u001b[38;5;241m.\u001b[39mclick(x \u001b[38;5;241m+\u001b[39m largura\u001b[38;5;241m/\u001b[39m\u001b[38;5;241m2\u001b[39m, y \u001b[38;5;241m+\u001b[39m altura\u001b[38;5;241m/\u001b[39m\u001b[38;5;241m2\u001b[39m)\n\u001b[0;32m     27\u001b[0m \u001b[38;5;66;03m# esperar gmail\u001b[39;00m\n",
      "File \u001b[1;32m~\\anaconda3\\Lib\\site-packages\\pyautogui\\__init__.py:174\u001b[0m, in \u001b[0;36mraisePyAutoGUIImageNotFoundException.<locals>.wrapper\u001b[1;34m(*args, **kwargs)\u001b[0m\n\u001b[0;32m    172\u001b[0m     \u001b[38;5;28;01mreturn\u001b[39;00m wrappedFunction(\u001b[38;5;241m*\u001b[39margs, \u001b[38;5;241m*\u001b[39m\u001b[38;5;241m*\u001b[39mkwargs)\n\u001b[0;32m    173\u001b[0m \u001b[38;5;28;01mexcept\u001b[39;00m pyscreeze\u001b[38;5;241m.\u001b[39mImageNotFoundException:\n\u001b[1;32m--> 174\u001b[0m     \u001b[38;5;28;01mraise\u001b[39;00m ImageNotFoundException\n",
      "\u001b[1;31mImageNotFoundException\u001b[0m: "
     ]
    }
   ],
   "source": [
    "import pyautogui\n",
    "import time\n",
    "\n",
    "pyautogui.alert(\"O código será inicializado. Não mexa em nada enquanto o código estiver rodando.\")\n",
    "\n",
    "pyautogui.PAUSE = 1\n",
    "# apertar windows no teclado\n",
    "pyautogui.press('win')\n",
    "\n",
    "# digitar chrome\n",
    "pyautogui.write('edge')\n",
    "\n",
    "# apertar enter\n",
    "pyautogui.press('enter')\n",
    "\n",
    "# entrar no Gmail\n",
    "pyautogui.write('gmail')\n",
    "\n",
    "pyautogui.press('enter')\n",
    "\n",
    "\n",
    "# localizar a imagem e clicar no meio da imagem\n",
    "x, y, largura, altura = pyautogui.locateOnScreen('busca_gmail.png')\n",
    "\n",
    "pyautogui.click(x + largura/2, y + altura/2)\n",
    "\n",
    "# esperar gmail\n",
    "while True:\n",
    "    try:\n",
    "        pyautogui.locateOnScreen('logo_gmail.png')\n",
    "        break # se executou o de cima, posso sair do loop\n",
    "    except:\n",
    "        time.sleep(1) \n",
    "\n",
    "# entrar em contatos\n",
    "x, y, largura, altura = pyautogui.locateOnScreen('google_apps.png')\n",
    "\n",
    "pyautogui.click(x + largura/2, y + altura/2)\n",
    "\n",
    "x, y, largura, altura = pyautogui.locateOnScreen('contatos.png')\n",
    "\n",
    "pyautogui.click(x + largura/2, y + altura/2)\n",
    "\n",
    "# verificando se está na página de contatos\n",
    "while True:\n",
    "    try:\n",
    "        pyautogui.locateOnScreen('logo_contatos.png')\n",
    "        break \n",
    "    except:\n",
    "        time.sleep(1) \n",
    "\n",
    "# exportando contatos\n",
    "x, y, largura, altura = pyautogui.locateOnScreen('exportar.png')\n",
    "\n",
    "pyautogui.click(x + largura/2, y + altura/2)\n",
    "\n",
    "\n",
    "x, y, largura, altura = pyautogui.locateOnScreen('confirma_exportar.png')\n",
    "\n",
    "pyautogui.click(x + largura/2, y + altura/2)\n"
   ]
  },
  {
   "cell_type": "code",
   "execution_count": null,
   "id": "96ec0052",
   "metadata": {},
   "outputs": [],
   "source": []
  }
 ],
 "metadata": {
  "kernelspec": {
   "display_name": "Python 3 (ipykernel)",
   "language": "python",
   "name": "python3"
  },
  "language_info": {
   "codemirror_mode": {
    "name": "ipython",
    "version": 3
   },
   "file_extension": ".py",
   "mimetype": "text/x-python",
   "name": "python",
   "nbconvert_exporter": "python",
   "pygments_lexer": "ipython3",
   "version": "3.11.5"
  }
 },
 "nbformat": 4,
 "nbformat_minor": 5
}
